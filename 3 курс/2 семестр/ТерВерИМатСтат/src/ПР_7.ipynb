{
 "cells": [
  {
   "cell_type": "code",
   "execution_count": null,
   "metadata": {},
   "outputs": [],
   "source": [
    "import numpy as np\n",
    "import matplotlib.pyplot as plt\n",
    "from scipy.stats import cumfreq\n",
    "from scipy import stats\n",
    "\n",
    "# Данные\n",
    "data = [-5, 1, -3, -2, 0, 0, 3, -3, -2, 0, 1, 2, 0, 0]\n",
    "\n",
    "# Построение графика эмпирической функции распределения (ECDF)\n",
    "def ecdf_plot(data):\n",
    "    data = np.sort(data)\n",
    "    n = len(data)\n",
    "    x = data\n",
    "    y = np.arange(1, n + 1) / n\n",
    "    plt.figure()\n",
    "    plt.step(x, y, linewidth=2.5, c='b')\n",
    "    plt.xlabel('Значение')\n",
    "    plt.ylabel('ECDF')\n",
    "    plt.title('График эмпирической функции распределения')\n",
    "    # plt.savefig('graph.png', bbox_inches='tight')\n",
    "\n",
    "\n",
    "ecdf_plot(data)"
   ]
  }
 ],
 "metadata": {
  "kernelspec": {
   "display_name": "Python 3",
   "language": "python",
   "name": "python3"
  },
  "language_info": {
   "codemirror_mode": {
    "name": "ipython",
    "version": 3
   },
   "file_extension": ".py",
   "mimetype": "text/x-python",
   "name": "python",
   "nbconvert_exporter": "python",
   "pygments_lexer": "ipython3",
   "version": "3.12.2"
  }
 },
 "nbformat": 4,
 "nbformat_minor": 2
}
