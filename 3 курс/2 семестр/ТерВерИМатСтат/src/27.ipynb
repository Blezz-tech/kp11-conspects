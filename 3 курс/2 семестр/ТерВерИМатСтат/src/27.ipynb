{
 "cells": [
  {
   "cell_type": "markdown",
   "metadata": {},
   "source": [
    "# Практическая работа 07. 18.03.2024 Начала математической статистики\n",
    "\n",
    "## Задача 1\n",
    "\n",
    "### Условие задачи\n",
    "\n",
    "В результате выборки получены следующие числа: -5, +1, -3, -2, 0, 0, +3, -3, -2, 0, +1, +2, 0, 0. Постройте график эмпирической функции распределения, полигон частот и гистограмму частот, найдите моду, медиану и размах.\n",
    "\n",
    "### Решение задачи"
   ]
  },
  {
   "cell_type": "code",
   "execution_count": null,
   "metadata": {},
   "outputs": [],
   "source": [
    "# Импорт Нужных\n",
    "import numpy as np\n",
    "import matplotlib.pyplot as plt\n",
    "from scipy.stats import cumfreq\n",
    "from scipy import stats"
   ]
  },
  {
   "cell_type": "code",
   "execution_count": null,
   "metadata": {},
   "outputs": [],
   "source": [
    "\n",
    "# Данные\n",
    "data = [-5, 1, -3, -2, 0, 0, 3, -3, -2, 0, 1, 2, 0, 0]\n",
    "\n",
    "# Построение графика эмпирической функции распределения (ECDF)\n",
    "def empiric_plot(data):\n",
    "    data = np.sort(data)\n",
    "    n = len(data)\n",
    "    x = data\n",
    "    y = np.arange(1, n + 1) / n\n",
    "    plt.figure()\n",
    "    plt.step(x, y, linewidth=2.5, c='b')\n",
    "    plt.xlabel('Значение')\n",
    "    plt.ylabel('ECDF')\n",
    "    plt.title('График эмпирической функции распределения')\n",
    "\n",
    "\n",
    "def chastota_plot(data):\n",
    "    # Построение полигона частот\n",
    "    cf = cumfreq(data, numbins=len(data))\n",
    "\n",
    "    # Вычисление значений для полигона частот\n",
    "    x = cf.lowerlimit + np.linspace(0, cf.binsize*cf.cumcount.size, cf.cumcount.size)\n",
    "\n",
    "    plt.figure()\n",
    "    plt.plot(x, cf.cumcount, marker='o')\n",
    "    plt.xlabel('Значение')\n",
    "    plt.ylabel('Частота')\n",
    "    plt.title('Полигон частот')\n",
    "\n",
    "def gistogramma_plot(data):\n",
    "    # Построение гистограммы частот\n",
    "    plt.figure()\n",
    "    plt.hist(data, bins=len(data), edgecolor='black')\n",
    "    plt.xlabel('Значение')\n",
    "    plt.ylabel('Частота')\n",
    "    plt.title('Гистограмма частот')"
   ]
  },
  {
   "cell_type": "markdown",
   "metadata": {},
   "source": [
    "### Ответ"
   ]
  },
  {
   "cell_type": "code",
   "execution_count": null,
   "metadata": {},
   "outputs": [],
   "source": [
    "empiric_plot(data)"
   ]
  },
  {
   "cell_type": "code",
   "execution_count": null,
   "metadata": {},
   "outputs": [],
   "source": [
    "chastota_plot(data)"
   ]
  },
  {
   "cell_type": "code",
   "execution_count": null,
   "metadata": {},
   "outputs": [],
   "source": [
    "gistogramma_plot(data)"
   ]
  },
  {
   "cell_type": "code",
   "execution_count": null,
   "metadata": {},
   "outputs": [],
   "source": [
    "# Вычисление моды, медианы и размаха\n",
    "mode = stats.mode(data)\n",
    "median = np.median(data)\n",
    "range = np.ptp(data)\n",
    "\n",
    "print(f\"Мода: {mode.mode}\")\n",
    "print(f\"Частота моды: {mode.count}\")\n",
    "print(f\"Медиана: {median}\")\n",
    "print(f\"Размах: {range}\")\n"
   ]
  }
 ],
 "metadata": {
  "kernelspec": {
   "display_name": "Python 3",
   "language": "python",
   "name": "python3"
  },
  "language_info": {
   "codemirror_mode": {
    "name": "ipython",
    "version": 3
   },
   "file_extension": ".py",
   "mimetype": "text/x-python",
   "name": "python",
   "nbconvert_exporter": "python",
   "pygments_lexer": "ipython3",
   "version": "3.12.2"
  }
 },
 "nbformat": 4,
 "nbformat_minor": 2
}
