{
 "cells": [
  {
   "cell_type": "markdown",
   "metadata": {},
   "source": [
    "# Практическая работа 07. 18.03.2024 Начала математической статистики\n",
    "\n",
    "## Задача 1\n",
    "\n",
    "### Условие задачи\n",
    "\n",
    "В результате выборки получены следующие числа: -5, +1, -3, -2, 0, 0, +3, -3, -2, 0, +1, +2, 0, 0. Постройте график эмпирической функции распределения, полигон частот и гистограмму частот, найдите моду, медиану и размах.\n",
    "\n",
    "### Решение задачи"
   ]
  },
  {
   "cell_type": "code",
   "execution_count": null,
   "metadata": {},
   "outputs": [],
   "source": [
    "# Импорт библиотек\n",
    "import numpy as np\n",
    "import matplotlib.pyplot as plt\n",
    "from scipy.stats import cumfreq\n",
    "from scipy import stats"
   ]
  },
  {
   "cell_type": "code",
   "execution_count": null,
   "metadata": {},
   "outputs": [],
   "source": [
    "\n",
    "# Данные\n",
    "data = [-5, 1, -3, -2, 0, 0, 3, -3, -2, 0, 1, 2, 0, 0]\n",
    "\n",
    "# Построение графика эмпирической функции распределения (ECDF)\n",
    "def empiric_plot(data):\n",
    "    data = np.sort(data)\n",
    "    n = len(data)\n",
    "    x = data\n",
    "    y = np.arange(1, n + 1) / n\n",
    "    plt.figure()\n",
    "    plt.step(x, y, linewidth=2.5, c='b')\n",
    "    plt.xlabel('Значение')\n",
    "    plt.ylabel('ECDF')\n",
    "    plt.title('График эмпирической функции распределения')\n",
    "\n",
    "\n",
    "def chastota_plot(data):\n",
    "    # Построение полигона частот\n",
    "    cf = cumfreq(data, numbins=len(data))\n",
    "\n",
    "    # Вычисление значений для полигона частот\n",
    "    x = cf.lowerlimit + np.linspace(0, cf.binsize*cf.cumcount.size, cf.cumcount.size)\n",
    "\n",
    "    plt.figure()\n",
    "    plt.plot(x, cf.cumcount, marker='o')\n",
    "    plt.xlabel('Значение')\n",
    "    plt.ylabel('Частота')\n",
    "    plt.title('Полигон частот')\n",
    "\n",
    "def gistogramma_plot(data):\n",
    "    # Построение гистограммы частот\n",
    "    plt.figure()\n",
    "    plt.hist(data, bins=len(data), edgecolor='black')\n",
    "    plt.xlabel('Значение')\n",
    "    plt.ylabel('Частота')\n",
    "    plt.title('Гистограмма частот')"
   ]
  },
  {
   "cell_type": "markdown",
   "metadata": {},
   "source": [
    "### Ответ"
   ]
  },
  {
   "cell_type": "code",
   "execution_count": null,
   "metadata": {},
   "outputs": [],
   "source": [
    "empiric_plot(data)"
   ]
  },
  {
   "cell_type": "code",
   "execution_count": null,
   "metadata": {},
   "outputs": [],
   "source": [
    "chastota_plot(data)"
   ]
  },
  {
   "cell_type": "code",
   "execution_count": null,
   "metadata": {},
   "outputs": [],
   "source": [
    "gistogramma_plot(data)"
   ]
  },
  {
   "cell_type": "code",
   "execution_count": null,
   "metadata": {},
   "outputs": [],
   "source": [
    "# Вычисление моды, медианы и размаха\n",
    "mode = stats.mode(data)\n",
    "median = np.median(data)\n",
    "range = np.ptp(data)\n",
    "\n",
    "print(f\"Мода: {mode.mode}\")\n",
    "print(f\"Частота моды: {mode.count}\")\n",
    "print(f\"Медиана: {median}\")\n",
    "print(f\"Размах: {range}\")\n"
   ]
  },
  {
   "cell_type": "markdown",
   "metadata": {},
   "source": [
    "### Проверка\n",
    "\n",
    "Все работает"
   ]
  },
  {
   "cell_type": "markdown",
   "metadata": {},
   "source": [
    "## Задача 2\n",
    "\n",
    "### Условие задачи\n",
    "\n",
    "Для выборки +2, -1, +2, -1, -4, +5, +2, +2, -1, +5. Постройте график эмпирической функции распределения, полигон частот и гистограмму частот, найдите моду, медиану и размах.\n",
    "\n",
    "### Решение задачи"
   ]
  },
  {
   "cell_type": "code",
   "execution_count": null,
   "metadata": {},
   "outputs": [],
   "source": [
    "# Импорт библиотек\n",
    "import numpy as np\n",
    "import matplotlib.pyplot as plt\n",
    "from scipy.stats import cumfreq\n",
    "from scipy import stats"
   ]
  },
  {
   "cell_type": "code",
   "execution_count": null,
   "metadata": {},
   "outputs": [],
   "source": [
    "\n",
    "# Данные\n",
    "data = [2, -1, 2, -1, -4, 5, 2, 2, -1, 5]\n",
    "\n",
    "# Построение графика эмпирической функции распределения (ECDF)\n",
    "def empiric_plot(data):\n",
    "    data = np.sort(data)\n",
    "    n = len(data)\n",
    "    x = data\n",
    "    y = np.arange(1, n + 1) / n\n",
    "    plt.figure()\n",
    "    plt.step(x, y, linewidth=2.5, c='b')\n",
    "    plt.xlabel('Значение')\n",
    "    plt.ylabel('ECDF')\n",
    "    plt.title('График эмпирической функции распределения')\n",
    "\n",
    "\n",
    "def chastota_plot(data):\n",
    "    # Построение полигона частот\n",
    "    cf = cumfreq(data, numbins=len(data))\n",
    "\n",
    "    # Вычисление значений для полигона частот\n",
    "    x = cf.lowerlimit + np.linspace(0, cf.binsize*cf.cumcount.size, cf.cumcount.size)\n",
    "\n",
    "    plt.figure()\n",
    "    plt.plot(x, cf.cumcount, marker='o')\n",
    "    plt.xlabel('Значение')\n",
    "    plt.ylabel('Частота')\n",
    "    plt.title('Полигон частот')\n",
    "\n",
    "def gistogramma_plot(data):\n",
    "    # Построение гистограммы частот\n",
    "    plt.figure()\n",
    "    plt.hist(data, bins=len(data), edgecolor='black')\n",
    "    plt.xlabel('Значение')\n",
    "    plt.ylabel('Частота')\n",
    "    plt.title('Гистограмма частот')"
   ]
  },
  {
   "cell_type": "markdown",
   "metadata": {},
   "source": [
    "### Ответ"
   ]
  },
  {
   "cell_type": "code",
   "execution_count": null,
   "metadata": {},
   "outputs": [],
   "source": [
    "empiric_plot(data)"
   ]
  },
  {
   "cell_type": "code",
   "execution_count": null,
   "metadata": {},
   "outputs": [],
   "source": [
    "chastota_plot(data)"
   ]
  },
  {
   "cell_type": "code",
   "execution_count": null,
   "metadata": {},
   "outputs": [],
   "source": [
    "gistogramma_plot(data)"
   ]
  },
  {
   "cell_type": "markdown",
   "metadata": {},
   "source": [
    "### Проверка\n",
    "\n",
    "Все работает"
   ]
  },
  {
   "cell_type": "markdown",
   "metadata": {},
   "source": [
    "## Задача 3\n",
    "\n",
    "### Условие задачи\n",
    "\n",
    "В цехе работают 6 станков. Вероятность остановки любого станка в течение часа равна 0,8. Постройте полигон распределения вероятности числа станков, остановившихся в течение данного часа и полигон числа работавших в течение часа.\n",
    "\n",
    "### Решение задачи"
   ]
  },
  {
   "cell_type": "code",
   "execution_count": null,
   "metadata": {},
   "outputs": [],
   "source": [
    "import matplotlib.pyplot as plt\n",
    "import numpy as np\n",
    "from scipy.stats import binom"
   ]
  },
  {
   "cell_type": "code",
   "execution_count": null,
   "metadata": {},
   "outputs": [],
   "source": [
    "# Параметры распределения\n",
    "n = 6 # Количество станков\n",
    "p = 0.8 # Вероятность остановки станка\n",
    "\n",
    "# Вычисляем вероятности для каждого исхода\n",
    "x = np.arange(0, n+1) # Исходы от 0 до n\n",
    "probabilities = binom.pmf(x, n, p)\n",
    "\n",
    "# Построение графика полигона распределения вероятности числа станков, остановившихся в течение часа\n",
    "def func_1():\n",
    "    plt.figure(figsize=(10, 6))\n",
    "    plt.plot(x, probabilities, marker='o', linestyle='-', color='blue')\n",
    "    plt.title('Полигон распределения вероятности числа станков, остановившихся в течение часа')\n",
    "    plt.xlabel('Число станков, остановившихся')\n",
    "    plt.ylabel('Вероятность')\n",
    "    plt.grid(True)\n",
    "    plt.show()\n",
    "\n",
    "# Построение графика полигона числа работавших станков в течение часа\n",
    "def func_2():\n",
    "    plt.figure(figsize=(10, 6))\n",
    "    plt.plot(n - x, probabilities, marker='o', linestyle='-', color='green')\n",
    "    plt.title('Полигон распределения числа работавших станков в течение часа')\n",
    "    plt.xlabel('Число работающих станков')\n",
    "    plt.ylabel('Вероятность')\n",
    "    plt.grid(True)\n",
    "    plt.show()\n"
   ]
  },
  {
   "cell_type": "markdown",
   "metadata": {},
   "source": [
    "### Ответ"
   ]
  },
  {
   "cell_type": "code",
   "execution_count": null,
   "metadata": {},
   "outputs": [],
   "source": [
    "func_1()"
   ]
  },
  {
   "cell_type": "code",
   "execution_count": null,
   "metadata": {},
   "outputs": [],
   "source": [
    "func_2()"
   ]
  },
  {
   "cell_type": "markdown",
   "metadata": {},
   "source": [
    "### Проверка\n",
    "\n",
    "Все работает"
   ]
  },
  {
   "cell_type": "markdown",
   "metadata": {},
   "source": [
    "## Задача 4\n",
    "\n",
    "### Условие задачи\n",
    "\n",
    "На приёмных экзаменах абитуриенты набрали следующие суммы баллов:\n",
    "\n",
    "23, 16, 21, 25, 20, 20, 22, 22, 15, 19, 21, 25, 17, 20, 16, 20, 19, 21, 15, 19, 20, 16, 24, 20, 19, 20, 17, 20, 16, 18, 19, 18, 20, 20, 20, 18, 20, 15, 17, 18.\n",
    "\n",
    "Постройте график эмпирической функции распределения, полигон частот и гистограмму частот, найдите моду, медиану и размах.\n",
    "\n",
    "\n",
    "### Решение задачи"
   ]
  },
  {
   "cell_type": "code",
   "execution_count": null,
   "metadata": {},
   "outputs": [],
   "source": [
    "# Импорт библиотек\n",
    "import numpy as np\n",
    "import matplotlib.pyplot as plt\n",
    "from scipy.stats import cumfreq\n",
    "from scipy import stats"
   ]
  },
  {
   "cell_type": "code",
   "execution_count": null,
   "metadata": {},
   "outputs": [],
   "source": [
    "\n",
    "# Данные\n",
    "data = [23, 16, 21, 25, 20, 20, 22, 22, 15,\n",
    "        19, 21, 25, 17, 20, 16, 20, 19, 21,\n",
    "        15, 19, 20, 16, 24, 20, 19, 20, 17,\n",
    "        20, 16, 18, 19, 18, 20, 20, 20, 18,\n",
    "        20, 15, 17, 18]\n",
    "\n",
    "# Построение графика эмпирической функции распределения (ECDF)\n",
    "def empiric_plot(data):\n",
    "    data = np.sort(data)\n",
    "    n = len(data)\n",
    "    x = data\n",
    "    y = np.arange(1, n + 1) / n\n",
    "    plt.figure()\n",
    "    plt.step(x, y, linewidth=2.5, c='b')\n",
    "    plt.xlabel('Значение')\n",
    "    plt.ylabel('ECDF')\n",
    "    plt.title('График эмпирической функции распределения')\n",
    "\n",
    "\n",
    "def chastota_plot(data):\n",
    "    # Построение полигона частот\n",
    "    cf = cumfreq(data, numbins=len(data))\n",
    "\n",
    "    # Вычисление значений для полигона частот\n",
    "    x = cf.lowerlimit + np.linspace(0, cf.binsize*cf.cumcount.size, cf.cumcount.size)\n",
    "\n",
    "    plt.figure()\n",
    "    plt.plot(x, cf.cumcount, marker='o')\n",
    "    plt.xlabel('Значение')\n",
    "    plt.ylabel('Частота')\n",
    "    plt.title('Полигон частот')\n",
    "\n",
    "def gistogramma_plot(data):\n",
    "    # Построение гистограммы частот\n",
    "    plt.figure()\n",
    "    plt.hist(data, bins=len(data), edgecolor='black')\n",
    "    plt.xlabel('Значение')\n",
    "    plt.ylabel('Частота')\n",
    "    plt.title('Гистограмма частот')"
   ]
  },
  {
   "cell_type": "markdown",
   "metadata": {},
   "source": [
    "### Ответ"
   ]
  },
  {
   "cell_type": "code",
   "execution_count": null,
   "metadata": {},
   "outputs": [],
   "source": [
    "empiric_plot(data)"
   ]
  },
  {
   "cell_type": "code",
   "execution_count": null,
   "metadata": {},
   "outputs": [],
   "source": [
    "chastota_plot(data)"
   ]
  },
  {
   "cell_type": "code",
   "execution_count": null,
   "metadata": {},
   "outputs": [],
   "source": [
    "gistogramma_plot(data)"
   ]
  },
  {
   "cell_type": "markdown",
   "metadata": {},
   "source": [
    "### Проверка\n",
    "\n",
    "Все работает"
   ]
  },
  {
   "cell_type": "markdown",
   "metadata": {},
   "source": [
    "## Задача 5\n",
    "\n",
    "### Условие задачи\n",
    "\n",
    "Контрольные обмеры диаметров шариков дали следующие результаты:\n",
    "\n",
    "552, 553, 546, 541, 541, 548, 555, 550, 542, 555, 554, 545, 539, 540, 554, 554, 540, 546, 547, 556, 538, 544, 548, 541, 544, 554, 539, 555, 554, 550, 551, 550, 542, 543, 554, 537, 550, 556, 540, 547, 542, 552, 555, 552, 542, 540, 542, 551, 555, 551,559, 561, 560, 558, 554, 562, 561, 560, 552, 555, 559, 560, 558, 555, 562, 560, 553, 560, 557, 554, 561, 555, 554, 558, 553, 553, 559, 555, 552, 561, 560, 557, 560, 554, 559, 554, 556, 557, 553, 562, 555, 555, 559, 554, 553, 559, 554, 562, 559, 561, 555, 556, 557, 555, 553, 558, 562, 555, 556, 552, 562, 562, 562, 560, 561, 561, 556, 554, 555, 560, 556, 554, 562, 560, 559, 562, 560, 560, 552, 559, 561, 558, 558, 560, 555, 552, 557, 556, 553, 558, 552, 558, 552, 562, 553, 554, 558, 562, 553, 559, 570, 562, 569, 568, 563, 572, 563, 562, 574, 568, 568, 566, 562, 564, 558, 577, 560, 561, 562, 577, 576, 565, 574, 571, 567, 574, 573, 557, 559, 568, 564, 563, 564, 557, 577, 560, 568, 577, 559, 570, 564, 577, 573, 576, 569, 570, 561, 565, 577, 572.\n",
    "\n",
    "Проведите статистическую обработку этих данных\n",
    "\n",
    "\n",
    "### Решение задачи"
   ]
  },
  {
   "cell_type": "code",
   "execution_count": null,
   "metadata": {},
   "outputs": [],
   "source": [
    "# Импорт библиотек\n",
    "import numpy as np\n",
    "import matplotlib.pyplot as plt\n",
    "from scipy.stats import cumfreq\n",
    "from scipy import stats"
   ]
  },
  {
   "cell_type": "code",
   "execution_count": null,
   "metadata": {},
   "outputs": [],
   "source": [
    "\n",
    "# Данные\n",
    "data = [552, 553, 546, 541, 541, 548, 555, 550, 542, 555,\n",
    "        554, 545, 539, 540, 554, 554, 540, 546, 547, 556,\n",
    "        538, 544, 548, 541, 544, 554, 539, 555, 554, 550,\n",
    "        551, 550, 542, 543, 554, 537, 550, 556, 540, 547,\n",
    "        542, 552, 555, 552, 542, 540, 542, 551, 555, 551,\n",
    "        559, 561, 560, 558, 554, 562, 561, 560, 552, 555,\n",
    "        559, 560, 558, 555, 562, 560, 553, 560, 557, 554,\n",
    "        561, 555, 554, 558, 553, 553, 559, 555, 552, 561,\n",
    "        560, 557, 560, 554, 559, 554, 556, 557, 553, 562,\n",
    "        555, 555, 559, 554, 553, 559, 554, 562, 559, 561,\n",
    "        555, 556, 557, 555, 553, 558, 562, 555, 556, 552,\n",
    "        562, 562, 562, 560, 561, 561, 556, 554, 555, 560,\n",
    "        556, 554, 562, 560, 559, 562, 560, 560, 552, 559,\n",
    "        561, 558, 558, 560, 555, 552, 557, 556, 553, 558,\n",
    "        552, 558, 552, 562, 553, 554, 558, 562, 553, 559,\n",
    "        570, 562, 569, 568, 563, 572, 563, 562, 574, 568,\n",
    "        568, 566, 562, 564, 558, 577, 560, 561, 562, 577,\n",
    "        576, 565, 574, 571, 567, 574, 573, 557, 559, 568,\n",
    "        564, 563, 564, 557, 577, 560, 568, 577, 559, 570,\n",
    "        564, 577, 573, 576, 569, 570, 561, 565, 577, 572]\n",
    "\n",
    "# Построение графика эмпирической функции распределения (ECDF)\n",
    "def empiric_plot(data):\n",
    "    data = np.sort(data)\n",
    "    n = len(data)\n",
    "    x = data\n",
    "    y = np.arange(1, n + 1) / n\n",
    "    plt.figure()\n",
    "    plt.step(x, y, linewidth=2.5, c='b')\n",
    "    plt.xlabel('Значение')\n",
    "    plt.ylabel('ECDF')\n",
    "    plt.title('График эмпирической функции распределения')\n",
    "\n",
    "\n",
    "def chastota_plot(data):\n",
    "    # Построение полигона частот\n",
    "    cf = cumfreq(data, numbins=len(data))\n",
    "\n",
    "    # Вычисление значений для полигона частот\n",
    "    x = cf.lowerlimit + np.linspace(0, cf.binsize*cf.cumcount.size, cf.cumcount.size)\n",
    "\n",
    "    plt.figure()\n",
    "    plt.plot(x, cf.cumcount, marker='o')\n",
    "    plt.xlabel('Значение')\n",
    "    plt.ylabel('Частота')\n",
    "    plt.title('Полигон частот')\n",
    "\n",
    "def gistogramma_plot(data):\n",
    "    # Построение гистограммы частот\n",
    "    plt.figure()\n",
    "    plt.hist(data, bins=len(data), edgecolor='black')\n",
    "    plt.xlabel('Значение')\n",
    "    plt.ylabel('Частота')\n",
    "    plt.title('Гистограмма частот')"
   ]
  },
  {
   "cell_type": "markdown",
   "metadata": {},
   "source": [
    "### Ответ"
   ]
  },
  {
   "cell_type": "code",
   "execution_count": null,
   "metadata": {},
   "outputs": [],
   "source": [
    "empiric_plot(data)"
   ]
  },
  {
   "cell_type": "code",
   "execution_count": null,
   "metadata": {},
   "outputs": [],
   "source": [
    "chastota_plot(data)"
   ]
  },
  {
   "cell_type": "code",
   "execution_count": null,
   "metadata": {},
   "outputs": [],
   "source": [
    "gistogramma_plot(data)"
   ]
  },
  {
   "cell_type": "markdown",
   "metadata": {},
   "source": [
    "### Проверка\n",
    "\n",
    "Все работает"
   ]
  }
 ],
 "metadata": {
  "kernelspec": {
   "display_name": "Python 3",
   "language": "python",
   "name": "python3"
  },
  "language_info": {
   "codemirror_mode": {
    "name": "ipython",
    "version": 3
   },
   "file_extension": ".py",
   "mimetype": "text/x-python",
   "name": "python",
   "nbconvert_exporter": "python",
   "pygments_lexer": "ipython3",
   "version": "3.12.2"
  }
 },
 "nbformat": 4,
 "nbformat_minor": 2
}
